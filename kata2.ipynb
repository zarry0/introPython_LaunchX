{
 "cells": [
  {
   "cell_type": "markdown",
   "source": [
    "  # hdgghf"
   ],
   "metadata": {}
  },
  {
   "cell_type": "markdown",
   "source": [],
   "metadata": {}
  }
 ],
 "metadata": {
  "orig_nbformat": 4,
  "language_info": {
   "name": "python",
   "version": "3.10.2"
  },
  "kernelspec": {
   "name": "python3",
   "display_name": "Python 3.10.2 64-bit (windows store)"
  },
  "interpreter": {
   "hash": "95e98f620b9e02dcfb900322894fa4829dcd038d6c503e0bd0e97a50b5ff1850"
  }
 },
 "nbformat": 4,
 "nbformat_minor": 2
}