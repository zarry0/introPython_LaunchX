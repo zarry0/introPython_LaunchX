{
 "cells": [
  {
   "cell_type": "markdown",
   "metadata": {},
   "source": [
    "# Ejercicio 1"
   ]
  },
  {
   "cell_type": "code",
   "execution_count": 1,
   "metadata": {},
   "outputs": [
    {
     "name": "stdout",
     "output_type": "stream",
     "text": [
      "Warning, an asteroid is nearby\n"
     ]
    }
   ],
   "source": [
    "warningSpeed = 25\n",
    "asteroidSpeed = 49\n",
    "\n",
    "if asteroidSpeed >= warningSpeed:\n",
    "    print(\"Warning, an asteroid is nearby\")\n",
    "else:\n",
    "    print(\"The asteroid is not close enough\")"
   ]
  },
  {
   "cell_type": "markdown",
   "metadata": {},
   "source": [
    "# Ejercicio 2"
   ]
  },
  {
   "cell_type": "code",
   "execution_count": 2,
   "metadata": {},
   "outputs": [
    {
     "name": "stdout",
     "output_type": "stream",
     "text": [
      "The asteroid is not visible from Earth\n"
     ]
    }
   ],
   "source": [
    "asteroidSpeed = 19\n",
    "lightBeamSpeed = 20\n",
    "\n",
    "if asteroidSpeed >= lightBeamSpeed:\n",
    "    print(\"The asteroid is visible from Earth\")\n",
    "else:\n",
    "    print(\"The asteroid is not visible from Earth\")"
   ]
  },
  {
   "cell_type": "markdown",
   "metadata": {},
   "source": [
    "# Ejercicio 3"
   ]
  },
  {
   "cell_type": "code",
   "execution_count": 3,
   "metadata": {},
   "outputs": [
    {
     "name": "stdout",
     "output_type": "stream",
     "text": [
      "A very dangerous asteroid is approaching the planet\n"
     ]
    }
   ],
   "source": [
    "asteroidSpeed = int(input(\"Enter the asteroid's speed in km/s\"))\n",
    "asteroidSize = int(input(\"Enter the asterioid's size in meters\"))\n",
    "\n",
    "if (asteroidSize >= 25) and (asteroidSize < 1000):\n",
    "    if asteroidSpeed >= warningSpeed:\n",
    "        print(\"A very dangerous asteroid is approaching the planet\")\n",
    "    elif asteroidSpeed >= lightBeamSpeed:\n",
    "        print(\"A very big asteroid is approaching the planet and it will emit a light beam\")\n",
    "    else:\n",
    "        print(\"A very big asteroid is approaching the planet\")\n",
    "else:\n",
    "    print(\"Nothing to see here\")\n",
    "\n",
    "   "
   ]
  }
 ],
 "metadata": {
  "interpreter": {
   "hash": "fdc2f5a2392fba639b1f5724c0ba161de5efc9223ab63c3c03802046803fc57d"
  },
  "kernelspec": {
   "display_name": "Python 3.8.8 ('base')",
   "language": "python",
   "name": "python3"
  },
  "language_info": {
   "codemirror_mode": {
    "name": "ipython",
    "version": 3
   },
   "file_extension": ".py",
   "mimetype": "text/x-python",
   "name": "python",
   "nbconvert_exporter": "python",
   "pygments_lexer": "ipython3",
   "version": "3.8.8"
  },
  "orig_nbformat": 4
 },
 "nbformat": 4,
 "nbformat_minor": 2
}
