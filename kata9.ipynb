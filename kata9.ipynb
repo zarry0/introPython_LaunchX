{
 "cells": [
  {
   "cell_type": "markdown",
   "metadata": {},
   "source": [
    "# Ejercicio 1"
   ]
  },
  {
   "cell_type": "code",
   "execution_count": 5,
   "metadata": {},
   "outputs": [
    {
     "name": "stdout",
     "output_type": "stream",
     "text": [
      "Fuel average: 5.666666666666667\n"
     ]
    }
   ],
   "source": [
    "def fuelReport(l1, l2, l3):\n",
    "    return f'Fuel average: {(l1 + l2 +l3) / 3}'\n",
    "\n",
    "print(fuelReport(0, 5, 12))"
   ]
  },
  {
   "cell_type": "code",
   "execution_count": 8,
   "metadata": {},
   "outputs": [
    {
     "name": "stdout",
     "output_type": "stream",
     "text": [
      "Fuel average: 5722.333333333333\n"
     ]
    }
   ],
   "source": [
    "def average(values):\n",
    "    sum = 0\n",
    "    for value in values:\n",
    "        sum += value\n",
    "    return sum / len(values)\n",
    "\n",
    "def updatedReport(l1, l2, l3):\n",
    "    return f'Fuel average: {average([l1, l2, l3])}'\n",
    "\n",
    "print(updatedReport(265, 10651, 6251))"
   ]
  },
  {
   "cell_type": "markdown",
   "metadata": {},
   "source": [
    "# Ejercicio 2"
   ]
  },
  {
   "cell_type": "code",
   "execution_count": 9,
   "metadata": {},
   "outputs": [],
   "source": [
    "def missionReport(prelaunch, t_flight, destination, ext_tank, int_tank):\n",
    "    return f\"\"\"Prelaunch hour: {prelaunch}\n",
    "    Flight duration: {t_flight}\n",
    "    Destination: {destination}\n",
    "    External Tank: {ext_tank}\n",
    "    Internal Tank: {int_tank}\"\"\""
   ]
  },
  {
   "cell_type": "code",
   "execution_count": 19,
   "metadata": {},
   "outputs": [
    {
     "name": "stdout",
     "output_type": "stream",
     "text": [
      "Destination: Mars\n",
      "    Duration: 184\n",
      "    Fuel reservoirs: 144\n",
      "    \n"
     ]
    }
   ],
   "source": [
    "def updatedMissionReport(destination, *minutes, **fuel_reservoirs):\n",
    "    return f\"\"\"Destination: {destination}\n",
    "    Duration: {sum(minutes)}\n",
    "    Fuel reservoirs: {sum(fuel_reservoirs.values())}\n",
    "    \"\"\"\n",
    "\n",
    "print(updatedMissionReport(\"Mars\", 10, 86, 52, 36, external=52, internal=92))"
   ]
  },
  {
   "cell_type": "code",
   "execution_count": 21,
   "metadata": {},
   "outputs": [
    {
     "name": "stdout",
     "output_type": "stream",
     "text": [
      "Destination: Mars\n",
      "    Duration: 184\n",
      "    External Tank: 52\n",
      "    Internal Tank: 92\n",
      "    Fuel reservoirs: 144\n",
      "    \n"
     ]
    }
   ],
   "source": [
    "def newMissionReport(destination, *minutes, **fuel_reservoirs):\n",
    "    return f\"\"\"Destination: {destination}\n",
    "    Duration: {sum(minutes)}\n",
    "    External Tank: {fuel_reservoirs['external']}\n",
    "    Internal Tank: {fuel_reservoirs['internal']}\n",
    "    Fuel reservoirs: {sum(fuel_reservoirs.values())}\n",
    "    \"\"\"\n",
    "\n",
    "print(newMissionReport(\"Mars\", 10, 86, 52, 36, external=52, internal=92))"
   ]
  },
  {
   "cell_type": "code",
   "execution_count": null,
   "metadata": {},
   "outputs": [],
   "source": []
  }
 ],
 "metadata": {
  "interpreter": {
   "hash": "fdc2f5a2392fba639b1f5724c0ba161de5efc9223ab63c3c03802046803fc57d"
  },
  "kernelspec": {
   "display_name": "Python 3.8.8 ('base')",
   "language": "python",
   "name": "python3"
  },
  "language_info": {
   "codemirror_mode": {
    "name": "ipython",
    "version": 3
   },
   "file_extension": ".py",
   "mimetype": "text/x-python",
   "name": "python",
   "nbconvert_exporter": "python",
   "pygments_lexer": "ipython3",
   "version": "3.8.8"
  },
  "orig_nbformat": 4
 },
 "nbformat": 4,
 "nbformat_minor": 2
}
