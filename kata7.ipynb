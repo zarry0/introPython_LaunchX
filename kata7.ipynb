{
 "cells": [
  {
   "cell_type": "markdown",
   "metadata": {},
   "source": [
    "# Ejercicio 1"
   ]
  },
  {
   "cell_type": "code",
   "execution_count": 3,
   "metadata": {},
   "outputs": [
    {
     "name": "stdout",
     "output_type": "stream",
     "text": [
      "['scfjajc', 'asdcfas', 'dasda', 'dfvca', 'ev', 'eqrv', 'werv', 'erv', 'erv', 'e', 'vewr', 'vwer', 'vwerv', 'erwf', 'vwe', 've', 'wfv', 'werv', 'werfv', 'wvwervf', 'wefv', 'wefv', 'wef', 'vf']\n"
     ]
    }
   ],
   "source": [
    "new_planet = str()\n",
    "planets = list()\n",
    "\n",
    "new_planet = input('Enter a new planet')\n",
    "while new_planet.lower() != 'done':\n",
    "    if new_planet:\n",
    "        planets.append(new_planet)\n",
    "    new_planet = input('Enter a new planet')\n",
    "print(planets)"
   ]
  },
  {
   "cell_type": "markdown",
   "metadata": {},
   "source": [
    "# Ejercicio 2"
   ]
  },
  {
   "cell_type": "code",
   "execution_count": 4,
   "metadata": {},
   "outputs": [
    {
     "name": "stdout",
     "output_type": "stream",
     "text": [
      "scfjajc\n",
      "asdcfas\n",
      "dasda\n",
      "dfvca\n",
      "ev\n",
      "eqrv\n",
      "werv\n",
      "erv\n",
      "erv\n",
      "e\n",
      "vewr\n",
      "vwer\n",
      "vwerv\n",
      "erwf\n",
      "vwe\n",
      "ve\n",
      "wfv\n",
      "werv\n",
      "werfv\n",
      "wvwervf\n",
      "wefv\n",
      "wefv\n",
      "wef\n",
      "vf\n"
     ]
    }
   ],
   "source": [
    "for planet in planets:\n",
    "    print(planet)"
   ]
  },
  {
   "cell_type": "code",
   "execution_count": null,
   "metadata": {},
   "outputs": [],
   "source": []
  }
 ],
 "metadata": {
  "interpreter": {
   "hash": "fdc2f5a2392fba639b1f5724c0ba161de5efc9223ab63c3c03802046803fc57d"
  },
  "kernelspec": {
   "display_name": "Python 3.8.8 ('base')",
   "language": "python",
   "name": "python3"
  },
  "language_info": {
   "codemirror_mode": {
    "name": "ipython",
    "version": 3
   },
   "file_extension": ".py",
   "mimetype": "text/x-python",
   "name": "python",
   "nbconvert_exporter": "python",
   "pygments_lexer": "ipython3",
   "version": "3.8.8"
  },
  "orig_nbformat": 4
 },
 "nbformat": 4,
 "nbformat_minor": 2
}
