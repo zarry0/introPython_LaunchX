{
 "cells": [
  {
   "cell_type": "markdown",
   "source": [
    " # Primer programa"
   ],
   "metadata": {}
  },
  {
   "cell_type": "code",
   "execution_count": 1,
   "source": [
    "from datetime import date\r\n",
    "print (\"Today's date is:  \" + str(date.today()))"
   ],
   "outputs": [
    {
     "output_type": "stream",
     "name": "stdout",
     "text": [
      "EL dia de hoy es: 2022-02-13\n"
     ]
    }
   ],
   "metadata": {}
  },
  {
   "cell_type": "markdown",
   "source": [
    " # Construir un convertidor de unidades}\r\n",
    " 1 parsec es 3.26156 años luz. Utiliza el operador de multiplicación.\r\n"
   ],
   "metadata": {}
  },
  {
   "cell_type": "code",
   "execution_count": 3,
   "source": [
    "parsec = 11\r\n",
    "\r\n",
    "lightyears = 3.26156 * parsec\r\n",
    "\r\n",
    "print(str(parsec) + \" parsec, is \" + str(lightyears) + \" lightyears\")"
   ],
   "outputs": [
    {
     "output_type": "stream",
     "name": "stdout",
     "text": [
      "11 parsec, is 35.877159999999996 lightyears\n"
     ]
    }
   ],
   "metadata": {}
  },
  {
   "cell_type": "code",
   "execution_count": null,
   "source": [],
   "outputs": [],
   "metadata": {}
  }
 ],
 "metadata": {
  "orig_nbformat": 4,
  "language_info": {
   "name": "python",
   "version": "3.10.2",
   "mimetype": "text/x-python",
   "codemirror_mode": {
    "name": "ipython",
    "version": 3
   },
   "pygments_lexer": "ipython3",
   "nbconvert_exporter": "python",
   "file_extension": ".py"
  },
  "kernelspec": {
   "name": "python3",
   "display_name": "Python 3.10.2 64-bit (windows store)"
  },
  "interpreter": {
   "hash": "95e98f620b9e02dcfb900322894fa4829dcd038d6c503e0bd0e97a50b5ff1850"
  }
 },
 "nbformat": 4,
 "nbformat_minor": 2
}