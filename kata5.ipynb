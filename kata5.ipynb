{
 "cells": [
  {
   "cell_type": "markdown",
   "metadata": {},
   "source": [
    "# Ejercicio 1"
   ]
  },
  {
   "cell_type": "code",
   "execution_count": 1,
   "metadata": {},
   "outputs": [
    {
     "name": "stdout",
     "output_type": "stream",
     "text": [
      "628949330\n",
      "390577533.93\n"
     ]
    }
   ],
   "source": [
    "earth = 149597870 \n",
    "jupiter = 778547200\n",
    "distance = (jupiter - earth)\n",
    "print(distance)\n",
    "print(distance * 0.621)"
   ]
  },
  {
   "cell_type": "markdown",
   "metadata": {},
   "source": [
    "# Ejercicio 2"
   ]
  },
  {
   "cell_type": "code",
   "execution_count": 6,
   "metadata": {},
   "outputs": [
    {
     "name": "stdout",
     "output_type": "stream",
     "text": [
      "1891129523\n",
      "1174391433.783\n"
     ]
    }
   ],
   "source": [
    "firstPlanet = int(input('Enter the first planet distance from the sun'))\n",
    "secondPlanet = int(input('Enter the second planet distance from the sun'))\n",
    "distance = abs(firstPlanet - secondPlanet)\n",
    "print(distance)\n",
    "print(distance * 0.621)"
   ]
  }
 ],
 "metadata": {
  "interpreter": {
   "hash": "fdc2f5a2392fba639b1f5724c0ba161de5efc9223ab63c3c03802046803fc57d"
  },
  "kernelspec": {
   "display_name": "Python 3.8.8 ('base')",
   "language": "python",
   "name": "python3"
  },
  "language_info": {
   "codemirror_mode": {
    "name": "ipython",
    "version": 3
   },
   "file_extension": ".py",
   "mimetype": "text/x-python",
   "name": "python",
   "nbconvert_exporter": "python",
   "pygments_lexer": "ipython3",
   "version": "3.8.8"
  },
  "orig_nbformat": 4
 },
 "nbformat": 4,
 "nbformat_minor": 2
}
